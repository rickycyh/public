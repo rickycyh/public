{
 "cells": [
  {
   "cell_type": "markdown",
   "metadata": {},
   "source": [
    "# RAG (AI Search and AOAI) Demo"
   ]
  },
  {
   "cell_type": "markdown",
   "metadata": {},
   "source": [
    "The logic and part of the code are come from https://github.com/Azure-Samples/azure-search-openai-demo, just make it simple to demo RAG part.\n",
    "1. show how to transform question to search query using AOAI prompt\n",
    "2. show to RAG works (AOAI + AI Search)\n",
    "3. show how citation works (Source of answer) works\n"
   ]
  },
  {
   "cell_type": "code",
   "execution_count": 1,
   "metadata": {},
   "outputs": [],
   "source": [
    "import os\n",
    "import openai\n",
    "from dotenv import load_dotenv  \n",
    "from azure.core.credentials import AzureKeyCredential\n",
    "from azure.search.documents import SearchClient\n",
    "from azure.search.documents.models import VectorizedQuery\n",
    "from azure.search.documents.models import (\n",
    "    QueryType,\n",
    "    QueryCaptionType,\n",
    "    QueryAnswerType,\n",
    ")\n",
    "import re  \n",
    "from xml.sax.saxutils import escape  \n",
    "from IPython.display import HTML"
   ]
  },
  {
   "cell_type": "code",
   "execution_count": 2,
   "metadata": {},
   "outputs": [
    {
     "data": {
      "text/plain": [
       "True"
      ]
     },
     "execution_count": 2,
     "metadata": {},
     "output_type": "execute_result"
    }
   ],
   "source": [
    "##load configuration from .env file\n",
    "current_path = os.getcwd()   \n",
    "envfilename = '.env'  \n",
    "env_path = os.path.join(current_path, envfilename)  \n",
    "load_dotenv(env_path)"
   ]
  },
  {
   "cell_type": "code",
   "execution_count": 3,
   "metadata": {},
   "outputs": [],
   "source": [
    "aisearch_endpoint = os.getenv(\"aisearch_endpoint\")\n",
    "aisearch_key = os.getenv(\"aisearch_key\")\n",
    "index_name = os.getenv(\"aisearch_vectorindex\")\n",
    "azure_openai_endpoint=os.getenv(\"azure_openai_endpoint\")\n",
    "azure_openai_embedding_deployment=os.getenv(\"azure_openai_embedding_deployment\") \n",
    "azure_openai_key=os.getenv(\"azure_openai_key\")\n",
    "azure_openai_api_version=os.getenv(\"azure_openai_api_version\")\n",
    "azure_openai_gpt_model=os.getenv(\"azure_openai_gpt_model\") "
   ]
  },
  {
   "cell_type": "code",
   "execution_count": 4,
   "metadata": {},
   "outputs": [
    {
     "name": "stdout",
     "output_type": "stream",
     "text": [
      "https://gptkb-tybo4fifefmeo.search.windows.net\n",
      "Uy4GpOvX2VtJMFhOHTRZFKz5Lf4Wgd4R8xVvOqncT5AzSeDTVhO2\n",
      "gptkbindex\n",
      "https://cog-tybo4fifefmeo.openai.azure.com/\n",
      "chat\n",
      "2023-05-15\n",
      "embedding\n"
     ]
    }
   ],
   "source": [
    "print(aisearch_endpoint)\n",
    "print(aisearch_key)\n",
    "print(index_name)\n",
    "print(azure_openai_endpoint)\n",
    "print(azure_openai_gpt_model)\n",
    "print(azure_openai_api_version)\n",
    "print(azure_openai_embedding_deployment)"
   ]
  },
  {
   "cell_type": "code",
   "execution_count": 8,
   "metadata": {},
   "outputs": [],
   "source": [
    "# Initialize search client to connect to AI Search\n",
    "credential = AzureKeyCredential(os.getenv(\"aisearch_key\"))\n",
    "search_client = SearchClient(endpoint=aisearch_endpoint, index_name=index_name, credential=credential)  "
   ]
  },
  {
   "cell_type": "code",
   "execution_count": 9,
   "metadata": {},
   "outputs": [],
   "source": [
    "# initialize AOAI client to connect to AOAI Service\n",
    "openaiclient = openai.AzureOpenAI(\n",
    "        azure_endpoint=azure_openai_endpoint,\n",
    "        api_key=azure_openai_key,\n",
    "        api_version=azure_openai_api_version\n",
    "    )"
   ]
  },
  {
   "cell_type": "code",
   "execution_count": 10,
   "metadata": {},
   "outputs": [],
   "source": [
    "# define function to generate embedding using AOAI embedding endpoint.\n",
    "def generate_embeddings(text):\n",
    "    return openaiclient.embeddings.create(input = [text], model=azure_openai_embedding_deployment).data[0].embedding"
   ]
  },
  {
   "cell_type": "code",
   "execution_count": 11,
   "metadata": {},
   "outputs": [],
   "source": [
    "# define function to remove newline characters from a string\n",
    "def nonewlines(s: str) -> str:\n",
    "    return s.replace(\"\\n\", \" \").replace(\"\\r\", \" \")\n"
   ]
  },
  {
   "cell_type": "markdown",
   "metadata": {},
   "source": [
    "## Define the user question. "
   ]
  },
  {
   "cell_type": "code",
   "execution_count": 18,
   "metadata": {},
   "outputs": [],
   "source": [
    "user_query = \"tell me more about contoso?\""
   ]
  },
  {
   "cell_type": "markdown",
   "metadata": {},
   "source": [
    "### Use AOAI to generate a seach query based on the question"
   ]
  },
  {
   "cell_type": "code",
   "execution_count": 21,
   "metadata": {},
   "outputs": [
    {
     "name": "stdout",
     "output_type": "stream",
     "text": [
      "generated search query: contoso\n"
     ]
    }
   ],
   "source": [
    "response = openaiclient.chat.completions.create(\n",
    "    model= azure_openai_gpt_model,\n",
    "    messages=[\n",
    "        {\"role\": \"system\", \"content\": \"Generate a search query based on the question or input. If you cannot generate a search query, return just the number 0\"},\n",
    "        {\"role\": \"user\", \"content\": user_query},\n",
    "    ],\n",
    "    )\n",
    "user_query_search = response.choices[0].message.content \n",
    "print(f\"generated search query: {user_query_search}\")\n"
   ]
  },
  {
   "cell_type": "markdown",
   "metadata": {},
   "source": [
    "### Use Hybrid Search(full text + Vector) without semantics profile"
   ]
  },
  {
   "cell_type": "code",
   "execution_count": 32,
   "metadata": {},
   "outputs": [
    {
     "name": "stdout",
     "output_type": "stream",
     "text": [
      "===search result===\n",
      "total: 149\n",
      "0.032786883413791656, Contoso_Electronics_Company_Overview.md,Contoso_Electronics_Company_Overview.md\n",
      "0.02982766181230545, Benefit_Options.pdf#page=1,Benefit_Options.pdf\n",
      "0.02982456237077713, employee_handbook.pdf#page=1,employee_handbook.pdf\n",
      "0.028612013906240463, Contoso_Electronics_Company_Overview.md,Contoso_Electronics_Company_Overview.md\n",
      "0.0238095261156559, employee_handbook.pdf#page=6,employee_handbook.pdf\n"
     ]
    }
   ],
   "source": [
    "# hybrid Search\n",
    "vector_query = VectorizedQuery(vector=generate_embeddings(user_query_search), k_nearest_neighbors=5, fields=\"embedding\")\n",
    "\n",
    "# only return top 5  \n",
    "results = search_client.search(  \n",
    "    search_text=user_query_search,  \n",
    "    vector_queries= [vector_query],\n",
    "    select=[\"*\"],\n",
    "    include_total_count=True,\n",
    "    top = 5\n",
    ")  \n",
    "\n",
    "# save the result in format sourcepage:content\n",
    "print(\"===search result===\")  \n",
    "print(f\"total: {results.get_count()}\")\n",
    "result_lists = []\n",
    "for result in results:\n",
    "    clean_content = nonewlines(result['content']) \n",
    "    formatted_result = f\"{result['sourcepage']}:{clean_content}\"  \n",
    "    result_lists.append(formatted_result)\n",
    "    print(f\"{result['@search.score']}, {result['sourcepage']},{result['sourcefile']}\")  "
   ]
  },
  {
   "cell_type": "markdown",
   "metadata": {},
   "source": [
    "### formatted the search result in sourcepage:content"
   ]
  },
  {
   "cell_type": "code",
   "execution_count": 31,
   "metadata": {},
   "outputs": [
    {
     "name": "stdout",
     "output_type": "stream",
     "text": [
      "\n",
      "\n",
      "===Source content passed to AOAI, the following result only display first 300 charcters===\n",
      "Contoso_Electronics_Company_Overview.md:# Contoso Electronics *Disclaimer: This content is generated\n",
      "Benefit_Options.pdf#page=1:Contoso Electronics Plan and Benefit Packages Contoso ElectronicsThis doc\n",
      "employee_handbook.pdf#page=1:Contoso Electronics Employee Handbook Contoso ElectronicsThis document \n",
      "Contoso_Electronics_Company_Overview.md: Here are some ways we celebrate achievements: - Monthly \"In\n",
      "employee_handbook.pdf#page=6: Prevention and Response Contoso Electronics is committed to preventing\n"
     ]
    }
   ],
   "source": [
    "\n",
    "print(\"===Source content passed to AOAI, the following result only display first 300 charcters===\")\n",
    "## print(f\"{result['@search.score']}, {result['sourcepage']},{result['sourcefile']},{result['content'][:100]} \\n\") \n",
    "## result_lists = [f\"{result['sourcepage']}:{result['content']}\" for result in results] \n",
    "for result in result_lists:\n",
    "    print(f\"{result[:100]}\") "
   ]
  },
  {
   "cell_type": "markdown",
   "metadata": {},
   "source": [
    "### Define the sytem message to instruct AOAI to quote the source name for the response"
   ]
  },
  {
   "cell_type": "code",
   "execution_count": 33,
   "metadata": {},
   "outputs": [],
   "source": [
    "system_message = \"\"\" \n",
    "Answer ONLY with the facts listed in the list of sources below. \n",
    "If there isn't enough information below, say you don't know. \n",
    "Do not generate answers that don't use the sources below. \n",
    "If asking a clarifying question to the user would help, ask the question.\n",
    "For tabular information return it as an html table. Do not return markdown format. If the question is not in English, answer in the language used in the question.\n",
    "Each source has a name followed by colon and the actual information, always include the source name for each fact you use in the response. Use square brackets to reference the source, for example [info1.txt]. Don't combine sources, list each source separately, for example [info1.txt][info2.pdf].\n",
    "\"\"\"\n"
   ]
  },
  {
   "cell_type": "markdown",
   "metadata": {},
   "source": [
    "### Contruct original user query with search result"
   ]
  },
  {
   "cell_type": "code",
   "execution_count": 34,
   "metadata": {},
   "outputs": [
    {
     "name": "stdout",
     "output_type": "stream",
     "text": [
      "tell me more about contoso?\n",
      "\n",
      "Sources:\n",
      "Contoso_Electronics_Company_Overview.md:# Contoso Electronics *Disclaimer: This content is generated by AI and may not accurately represent factual information about any real entity. Use this information with caution and verify details from reliable sources.* ## History Contoso Electronics, a pioneering force in the tech industry, was founded in 1985 by visionary entrepreneurs with a passion for innovation. Over the years, the company has played a pivotal role in shaping the landscape of consumer electronics. | Year | Milestone | |------|-----------| | 1985 | Company founded with a focus on cutting-edge technology | | 1990 | Launched the first-ever handheld personal computer | | 2000 | Introduced groundbreaking advancements in AI and robotics | | 2015 | Expansion into sustainable and eco-friendly product lines | ## Company Overview At Contoso Electronics, we take pride in fostering a dynamic and inclusive workplace. Our dedicated team of experts collaborates to create innovative solutions that empower and connect people globally.\n",
      "Benefit_Options.pdf#page=1:Contoso Electronics Plan and Benefit Packages Contoso ElectronicsThis document contains information generated using a language model (Azure OpenAI). The information contained in this document is only for demonstration purposes and does not reflect the opinions or beliefs of Microsoft. Microsoft makes no representations or warranties of any kind, express or implied, about the completeness, accuracy, reliability, suitability or availability with respect to the information contained in this document. All rights reserved to MicrosoftWelcome to Contoso Electronics! We are excited to offer our employees two comprehensive health insurance plans through Northwind Health. Northwind Health Plus Northwind Health Plus is a comprehensive plan that provides comprehensive coverage for medical, vision, and dental services. This plan also offers prescription drug coverage, mental health and substance abuse coverage, and coverage for preventive care services. With Northwind Health Plus, you can choose from a variety of in-network providers, including primary care physicians, specialists, hospitals, \n",
      "employee_handbook.pdf#page=1:Contoso Electronics Employee Handbook Contoso ElectronicsThis document contains information generated using a language model (Azure OpenAI). The information contained in this document is only for demonstration purposes and does not reflect the opinions or beliefs of Microsoft. Microsoft makes no representations or warranties of any kind, express or implied, about the completeness, accuracy, reliability, suitability or availability with respect to the information contained in this document. All rights reserved to MicrosoftContoso Electronics Employee Handbook Last Updated: 2023-03-05 Contoso Electronics is a leader in the aerospace industry, providing advanced electronic components for both commercial and military aircraft. We specialize in creating cutting- edge systems that are both reliable and efficient. Our mission is to provide the highest quality aircraft components to our customers, while maintaining a commitment to safety and excellence. We are proud to have built a strong reputation in the aerospace industry and strive to continually improve our products and services.\n",
      "Contoso_Electronics_Company_Overview.md: Here are some ways we celebrate achievements: - Monthly \"Innovator of the Month\" awards - Annual gala with awards for outstanding contributions - Team-building retreats for high-performing departments ## Join Us! Contoso Electronics is always on the lookout for talented individuals who share our passion for innovation. If you're ready to be part of a dynamic team shaping the future of technology, check out our [careers page](http://www.contoso.com) for exciting opportunities. [Learn more about Contoso Electronics!](http://www.contoso.com)\n",
      "employee_handbook.pdf#page=6: Prevention and Response Contoso Electronics is committed to preventing workplace violence and will not tolerate any acts of violence, threats, or abuse in the workplace. All employees are expected to follow the company's zero tolerance policy for workplace violence. If an employee believes that they are in danger or are the victim or witness of workplace violence, they should immediately notify their supervisor or Human Resources Representative. Employees are also encouraged to report any suspicious activity or behavior to their supervisor or Human Resources Representative. In the event of an incident of workplace violence, Contoso Electronics will respond promptly and appropriately. All incidents will be thoroughly investigated and the appropriate disciplinary action will be taken. Training and Education Contoso Electronics will provide regular training and education to all employees on workplace violence prevention and response. This training will include information on recognizing potential signs of workplace violence, strategies for responding to incidents, and the company's zero tolerance policy.\n"
     ]
    }
   ],
   "source": [
    "content = \"\\n\".join(result_lists)\n",
    "user_query_with_source = user_query + \"\\n\\nSources:\\n\" + content\n",
    "\n",
    "print(user_query_with_source)"
   ]
  },
  {
   "cell_type": "markdown",
   "metadata": {},
   "source": [
    "### Passed the query to AOAI"
   ]
  },
  {
   "cell_type": "code",
   "execution_count": 35,
   "metadata": {},
   "outputs": [
    {
     "name": "stdout",
     "output_type": "stream",
     "text": [
      "Contoso Electronics is a tech company that was founded in 1985 [Contoso_Electronics_Company_Overview.md]. They have achieved several milestones over the years, including launching the first-ever handheld personal computer in 1990 and introducing advancements in AI and robotics in 2000 [Contoso_Electronics_Company_Overview.md]. In 2015, they expanded into sustainable and eco-friendly product lines [Contoso_Electronics_Company_Overview.md].\n",
      "\n",
      "Contoso Electronics takes pride in fostering a dynamic and inclusive workplace, where a dedicated team of experts collaborates to create innovative solutions [Contoso_Electronics_Company_Overview.md].\n",
      "\n",
      "They offer two comprehensive health insurance plans through Northwind Health, which provide coverage for medical, vision, dental services, prescription drugs, mental health, substance abuse, and preventive care [Benefit_Options.pdf#page=1].\n",
      "\n",
      "Contoso Electronics specializes in providing advanced electronic components for both commercial and military aircraft in the aerospace industry [employee_handbook.pdf#page=1]. They aim to provide the highest quality aircraft components while maintaining a commitment to safety and excellence [employee_handbook.pdf#page=1].\n",
      "\n",
      "Contoso Electronics celebrates achievements through monthly \"Innovator of the Month\" awards, an annual gala with awards for outstanding contributions, and team-building retreats for high-performing departments [Contoso_Electronics_Company_Overview.md].\n",
      "\n",
      "They are always looking for talented individuals who share their passion for innovation and offer exciting career opportunities [Contoso_Electronics_Company_Overview.md].\n",
      "\n",
      "Contoso Electronics has a zero-tolerance policy for workplace violence and is committed to preventing and responding to such incidents. They encourage employees to report any suspicious activity or behavior and provide regular training and education on workplace violence prevention and response [employee_handbook.pdf#page=6].\n"
     ]
    }
   ],
   "source": [
    "response = openaiclient.chat.completions.create(\n",
    "    model= azure_openai_gpt_model,\n",
    "    messages=[\n",
    "        {\"role\": \"system\", \"content\": system_message},\n",
    "        {\"role\": \"user\", \"content\": user_query_with_source},\n",
    "    ],\n",
    "    temperature=0.3\n",
    "    )\n",
    "print(response.choices[0].message.content)"
   ]
  },
  {
   "cell_type": "markdown",
   "metadata": {},
   "source": [
    "## frontend - how to transform the AOAO response to HTML."
   ]
  },
  {
   "cell_type": "code",
   "execution_count": 36,
   "metadata": {},
   "outputs": [
    {
     "data": {
      "text/html": [
       "Contoso Electronics is a tech company that was founded in 1985 <a class=\"supContainer\" title=\"Contoso_Electronics_Company_Overview.md\" onclick=\"onCitationClicked('/content/Contoso_Electronics_Company_Overview.md')\"><sup>1</sup></a>. They have achieved several milestones over the years, including launching the first-ever handheld personal computer in 1990 and introducing advancements in AI and robotics in 2000 <a class=\"supContainer\" title=\"Contoso_Electronics_Company_Overview.md\" onclick=\"onCitationClicked('/content/Contoso_Electronics_Company_Overview.md')\"><sup>1</sup></a>. In 2015, they expanded into sustainable and eco-friendly product lines <a class=\"supContainer\" title=\"Contoso_Electronics_Company_Overview.md\" onclick=\"onCitationClicked('/content/Contoso_Electronics_Company_Overview.md')\"><sup>1</sup></a>.\n",
       "\n",
       "Contoso Electronics takes pride in fostering a dynamic and inclusive workplace, where a dedicated team of experts collaborates to create innovative solutions <a class=\"supContainer\" title=\"Contoso_Electronics_Company_Overview.md\" onclick=\"onCitationClicked('/content/Contoso_Electronics_Company_Overview.md')\"><sup>1</sup></a>.\n",
       "\n",
       "They offer two comprehensive health insurance plans through Northwind Health, which provide coverage for medical, vision, dental services, prescription drugs, mental health, substance abuse, and preventive care <a class=\"supContainer\" title=\"Benefit_Options.pdf#page=1\" onclick=\"onCitationClicked('/content/Benefit_Options.pdf#page=1')\"><sup>2</sup></a>.\n",
       "\n",
       "Contoso Electronics specializes in providing advanced electronic components for both commercial and military aircraft in the aerospace industry <a class=\"supContainer\" title=\"employee_handbook.pdf#page=1\" onclick=\"onCitationClicked('/content/employee_handbook.pdf#page=1')\"><sup>3</sup></a>. They aim to provide the highest quality aircraft components while maintaining a commitment to safety and excellence <a class=\"supContainer\" title=\"employee_handbook.pdf#page=1\" onclick=\"onCitationClicked('/content/employee_handbook.pdf#page=1')\"><sup>3</sup></a>.\n",
       "\n",
       "Contoso Electronics celebrates achievements through monthly \"Innovator of the Month\" awards, an annual gala with awards for outstanding contributions, and team-building retreats for high-performing departments <a class=\"supContainer\" title=\"Contoso_Electronics_Company_Overview.md\" onclick=\"onCitationClicked('/content/Contoso_Electronics_Company_Overview.md')\"><sup>1</sup></a>.\n",
       "\n",
       "They are always looking for talented individuals who share their passion for innovation and offer exciting career opportunities <a class=\"supContainer\" title=\"Contoso_Electronics_Company_Overview.md\" onclick=\"onCitationClicked('/content/Contoso_Electronics_Company_Overview.md')\"><sup>1</sup></a>.\n",
       "\n",
       "Contoso Electronics has a zero-tolerance policy for workplace violence and is committed to preventing and responding to such incidents. They encourage employees to report any suspicious activity or behavior and provide regular training and education on workplace violence prevention and response <a class=\"supContainer\" title=\"employee_handbook.pdf#page=6\" onclick=\"onCitationClicked('/content/employee_handbook.pdf#page=6')\"><sup>4</sup></a>."
      ],
      "text/plain": [
       "<IPython.core.display.HTML object>"
      ]
     },
     "metadata": {},
     "output_type": "display_data"
    },
    {
     "data": {
      "text/html": [
       "  \n",
       "    <div class=\"App-citations\">  \n",
       "        <h3>Citations</h3>  \n",
       "        <ul>  \n",
       "            <li><a href=\"#\" onclick=\"handleCitationClick('/content/Contoso_Electronics_Company_Overview.md')\">1. Contoso_Electronics_Company_Overview.md</a></li>\n",
       "<li><a href=\"#\" onclick=\"handleCitationClick('/content/Benefit_Options.pdf#page=1')\">2. Benefit_Options.pdf#page=1</a></li>\n",
       "<li><a href=\"#\" onclick=\"handleCitationClick('/content/employee_handbook.pdf#page=1')\">3. employee_handbook.pdf#page=1</a></li>\n",
       "<li><a href=\"#\" onclick=\"handleCitationClick('/content/employee_handbook.pdf#page=6')\">4. employee_handbook.pdf#page=6</a></li>  \n",
       "        </ul>  \n",
       "    </div>  \n",
       "    "
      ],
      "text/plain": [
       "<IPython.core.display.HTML object>"
      ]
     },
     "metadata": {},
     "output_type": "display_data"
    }
   ],
   "source": [
    "BACKEND_URI = \"\"  \n",
    "  \n",
    "def get_citation_file_path(citation):  \n",
    "    return f\"{BACKEND_URI}/content/{citation}\"  \n",
    "  \n",
    "def on_citation_clicked(citation_file_path):  \n",
    "    # This is a placeholder for the callback function  \n",
    "    # In a real application, you would implement what should happen when a citation is clicked  \n",
    "    print(f\"Citation clicked: {citation_file_path}\")  \n",
    "  \n",
    "def parse_answer_to_html(answer, on_citation_clicked):  \n",
    "    citations = []  \n",
    "    parsed_answer = answer.strip()  \n",
    "  \n",
    "    # Split the answer into parts using regex to find patterns like [citation]  \n",
    "    parts = re.split(r'(\\[[^\\]]+\\])', parsed_answer)  \n",
    "  \n",
    "    fragments = []  \n",
    "    for index, part in enumerate(parts):  \n",
    "        if index % 2 == 0:  \n",
    "            # This is a regular text part  \n",
    "            fragments.append(part)  \n",
    "        else:  \n",
    "            # This is a citation part; remove the brackets  \n",
    "            citation = part[1:-1]  \n",
    "  \n",
    "            if citation not in citations:  \n",
    "                citations.append(citation)  \n",
    "            citation_index = citations.index(citation) + 1  \n",
    "  \n",
    "            path = get_citation_file_path(citation)  \n",
    "  \n",
    "            # Manually create the HTML for the citation link  \n",
    "            citation_html = f'<a class=\"supContainer\" title=\"{escape(citation)}\" onclick=\"onCitationClicked(\\'{escape(path)}\\')\"><sup>{citation_index}</sup></a>'  \n",
    "            fragments.append(citation_html)  \n",
    "  \n",
    "    return {  \n",
    "        'answerHtml': ''.join(fragments),  \n",
    "        'citations': citations  \n",
    "    }  \n",
    "  \n",
    "\n",
    "def render_citations_html(citations):  \n",
    "    citation_list_items = []  \n",
    "    for citation_index, citation in enumerate(citations, start=1):  # Start index from 1  \n",
    "        citation_file_path = get_citation_file_path(citation)  \n",
    "        # Add citation_index to display the citation number  \n",
    "        citation_html = f'<li><a href=\"#\" onclick=\"handleCitationClick(\\'{citation_file_path}\\')\">{citation_index}. {citation}</a></li>'  \n",
    "        citation_list_items.append(citation_html)  \n",
    "  \n",
    "    citation_list_html = '\\n'.join(citation_list_items)  \n",
    "    html = f'''  \n",
    "    <div class=\"App-citations\">  \n",
    "        <h3>Citations</h3>  \n",
    "        <ul>  \n",
    "            {citation_list_html}  \n",
    "        </ul>  \n",
    "    </div>  \n",
    "    '''  \n",
    "    return html  \n",
    "\n",
    "html_parsed_answer = parse_answer_to_html(response.choices[0].message.content, on_citation_clicked)  \n",
    "citations_html = render_citations_html(html_parsed_answer['citations'])   \n",
    "\n",
    "# Display the answer HTML  \n",
    "display(HTML(html_parsed_answer['answerHtml']))  \n",
    "  \n",
    "# Display the citations HTML  \n",
    "display(HTML(citations_html))  "
   ]
  }
 ],
 "metadata": {
  "kernelspec": {
   "display_name": "Python 3",
   "language": "python",
   "name": "python3"
  },
  "language_info": {
   "codemirror_mode": {
    "name": "ipython",
    "version": 3
   },
   "file_extension": ".py",
   "mimetype": "text/x-python",
   "name": "python",
   "nbconvert_exporter": "python",
   "pygments_lexer": "ipython3",
   "version": "3.12.3"
  }
 },
 "nbformat": 4,
 "nbformat_minor": 2
}
